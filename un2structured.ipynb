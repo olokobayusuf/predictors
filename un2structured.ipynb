{
 "cells": [
  {
   "cell_type": "markdown",
   "metadata": {},
   "source": [
    "# Un2Structured Data\n",
    "This predictor accepts a `text` and corresponding JSON `schema` to generate a structured dictionary. We leverage LLMs to power this."
   ]
  },
  {
   "cell_type": "markdown",
   "metadata": {},
   "source": [
    "## Environment Variables\n",
    "This predictor uses the following predictor variables:\n",
    "\n",
    "| Name | Notes |\n",
    "|:--|:--|\n",
    "| `OPENAI_ORGANIZATION` | Your OpenAI organization ID. |\n",
    "| `OPENAI_API_KEY` | Your OpenAI API key. |\n",
    "\n",
    "To create environment variables for the predictor, open a terminal and run the following commands:\n",
    "```bash\n",
    "# Run these commands in a terminal:\n",
    "fxn env create OPENAI_ORGANIZATION <Your OpenAI org id>\n",
    "fxn env create OPENAI_API_KEY <Your OpenAI api key>\n",
    "```\n",
    "\n",
    "> These environment variables will be created as global environment variables, accessible by every predictor you create. You can also create [predictor-specific environment variables](https://docs.fxn.ai/create/secrets)."
   ]
  },
  {
   "cell_type": "markdown",
   "metadata": {},
   "source": [
    "## Dependencies"
   ]
  },
  {
   "cell_type": "markdown",
   "metadata": {},
   "source": [
    "We're gonna use [Marvin](https://github.com/PrefectHQ/marvin) from Prefect as they have the most mature tooling for this task."
   ]
  },
  {
   "cell_type": "code",
   "execution_count": null,
   "metadata": {},
   "outputs": [],
   "source": [
    "# Install Marvin\n",
    "%pip install datamodel-code-generator marvin"
   ]
  },
  {
   "cell_type": "markdown",
   "metadata": {},
   "source": [
    "For local testing, we'll use a `.env` file to load the environment variables above."
   ]
  },
  {
   "cell_type": "code",
   "execution_count": null,
   "metadata": {},
   "outputs": [],
   "source": [
    "# Install dotenv\n",
    "%pip install python-dotenv"
   ]
  },
  {
   "cell_type": "markdown",
   "metadata": {},
   "source": [
    "And load the env:"
   ]
  },
  {
   "cell_type": "code",
   "execution_count": 1,
   "metadata": {},
   "outputs": [
    {
     "data": {
      "text/plain": [
       "False"
      ]
     },
     "execution_count": 1,
     "metadata": {},
     "output_type": "execute_result"
    }
   ],
   "source": [
    "from dotenv import load_dotenv\n",
    "\n",
    "load_dotenv()"
   ]
  },
  {
   "cell_type": "markdown",
   "metadata": {},
   "source": [
    "## Implementation"
   ]
  },
  {
   "cell_type": "code",
   "execution_count": 80,
   "metadata": {},
   "outputs": [],
   "source": [
    "from datamodel_code_generator import generate, InputFileType, PythonVersion\n",
    "import marvin\n",
    "from marvin import ai_model\n",
    "from os import environ\n",
    "from pathlib import Path\n",
    "from tempfile import NamedTemporaryFile\n",
    "\n",
    "# Configure marvin\n",
    "marvin.settings.openai.organization = environ[\"OPENAI_ORGANIZATION\"]\n",
    "marvin.settings.openai.api_key = environ[\"OPENAI_API_KEY\"]\n",
    "\n",
    "def predict (text: str, schema: str) -> str:\n",
    "    \"\"\"\n",
    "    Convert unstructured text into a structured type.\n",
    "    \n",
    "    Parameters:\n",
    "        text: Input text.\n",
    "        schema: JSON schema. This is stringified.\n",
    "\n",
    "    Returns:\n",
    "        str: Output JSON dictionary.\n",
    "    \"\"\"\n",
    "    # Generate data model\n",
    "    MODEL_NAME = \"UserModel\"\n",
    "    schema = schema.replace(\"x-enumNames\", \"x-enum-varnames\")\n",
    "    with NamedTemporaryFile(mode=\"w\", suffix=\".py\", delete=False) as f:\n",
    "        model_source_path = Path(f.name)\n",
    "    generate(\n",
    "        schema,\n",
    "        class_name=MODEL_NAME,\n",
    "        input_file_type=InputFileType.JsonSchema,\n",
    "        target_python_version=PythonVersion.PY_310,\n",
    "        use_subclass_enum=True,\n",
    "        output=model_source_path\n",
    "    )\n",
    "    # Load data model\n",
    "    with open(model_source_path) as f:\n",
    "        model_source_py = f.read()\n",
    "    # Load model into interpreter\n",
    "    locals = {}\n",
    "    exec(model_source_py, locals, locals)\n",
    "    Model = locals[MODEL_NAME]\n",
    "    Model.update_forward_refs(**locals)\n",
    "    # Parse\n",
    "    result = ai_model(Model)(text)\n",
    "    result = result.json()\n",
    "    # Return\n",
    "    return result"
   ]
  },
  {
   "cell_type": "markdown",
   "metadata": {},
   "source": [
    "## Testing"
   ]
  },
  {
   "cell_type": "markdown",
   "metadata": {},
   "source": [
    "Let's run our `predict` function to ensure that it works well."
   ]
  },
  {
   "cell_type": "code",
   "execution_count": 81,
   "metadata": {},
   "outputs": [
    {
     "data": {
      "text/plain": [
       "'{\"name\": \"Yusuf\", \"direction\": 1}'"
      ]
     },
     "execution_count": 81,
     "metadata": {},
     "output_type": "execute_result"
    }
   ],
   "source": [
    "schema = \"\"\"\n",
    "{\n",
    "  \"$schema\": \"http://json-schema.org/draft-04/schema#\",\n",
    "  \"title\": \"Command\",\n",
    "  \"type\": \"object\",\n",
    "  \"additionalProperties\": false,\n",
    "  \"properties\": {\n",
    "    \"name\": {\n",
    "      \"type\": [\"null\", \"string\"]\n",
    "    },\n",
    "    \"direction\": {\n",
    "      \"$ref\": \"#/definitions/Direction\"\n",
    "    }\n",
    "  },\n",
    "  \"definitions\": {\n",
    "    \"Direction\": {\n",
    "      \"type\": \"integer\",\n",
    "      \"x-enumNames\": [\"North\", \"East\", \"South\", \"West\"],\n",
    "      \"enum\": [0, 1, 2, 3]\n",
    "    }\n",
    "  }\n",
    "}\n",
    "\"\"\"\n",
    "\n",
    "predict(\"My name is Yusuf and I'm heading East\", schema)"
   ]
  },
  {
   "cell_type": "markdown",
   "metadata": {},
   "source": [
    "## Configuration\n",
    "Open a terminal and run the following:\n",
    "```bash\n",
    "# Create the predictor on Function\n",
    "fxn create @username/un2structured un2structured.ipynb --overwrite\n",
    "```"
   ]
  },
  {
   "cell_type": "markdown",
   "metadata": {},
   "source": []
  }
 ],
 "metadata": {
  "kernelspec": {
   "display_name": "Python 3",
   "language": "python",
   "name": "python3"
  },
  "language_info": {
   "codemirror_mode": {
    "name": "ipython",
    "version": 3
   },
   "file_extension": ".py",
   "mimetype": "text/x-python",
   "name": "python",
   "nbconvert_exporter": "python",
   "pygments_lexer": "ipython3",
   "version": "3.10.10"
  },
  "orig_nbformat": 4
 },
 "nbformat": 4,
 "nbformat_minor": 2
}
